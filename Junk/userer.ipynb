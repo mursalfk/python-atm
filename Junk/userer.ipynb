{
 "cells": [
  {
   "cell_type": "markdown",
   "metadata": {},
   "source": [
    "# Task 1"
   ]
  },
  {
   "cell_type": "markdown",
   "metadata": {},
   "source": [
    "* User Object\n",
    "\tUser object with ~id (auto-generated), account_number (auto-generated), password (basic validations), account_status (active/inactive).~\n",
    "    \n",
    "\tUser login and signup (text, password field)\n",
    "* Pin-code.\n",
    "\tCreate pin-code (4-dgits) if user is newly created (status will be inactive).\n",
    "\tPin code object with user_id and pin-code.\n",
    "\tUpdate the user-status once pin-code is created.\n",
    "\tSave user and pin-code into respective files.\n",
    "* Transactions (Logging previous transactions).\n",
    "\tSave into a file with id, date, user_id and transactions.\n",
    "\tIf no transaction exists, return response.\n",
    "* Withdrawal, Deposit, Balance Inquiry, Mini Statement, Transfer to other account_number, Exit\n",
    "\tWithdrawal (can only withdraw if status is active):\n",
    "\t\tShow default amounts (selection)\n",
    "\t\tEnter other amount (number field, not negative)\n",
    "\t\tCharge extra amount as a fees, (1%, 2%, 3%)\n",
    "\t\tUpdate the file.\n",
    "\t\tShow error if required amount does-not exists.\n",
    "\tDeposit:\n",
    "\t\tEnter the amount (number field, not negative).\n",
    "\t\tUpdate the file.\n",
    "\tBalance Inquiry:\n",
    "\t\tShow current Balance\n",
    "\tMini Statement:\n",
    "\t\tConvert transactions (15 days) of the user into pandas df.\n",
    "\t\tAdd user info to the df.\n",
    "\t\tExport into csv.\n",
    "\t\tShow download and view the balance.\n",
    "\tExit:\n",
    "\t\tWill logout and take back to the login screen"
   ]
  },
  {
   "cell_type": "code",
   "execution_count": 7,
   "metadata": {
    "scrolled": false
   },
   "outputs": [
    {
     "name": "stdout",
     "output_type": "stream",
     "text": [
      "Hello and Welcome\n",
      "Loop executed\n",
      "Loop executed\n",
      "Loop executed\n",
      "Loop executed\n"
     ]
    }
   ],
   "source": [
    "import random\n",
    "import time as t\n",
    "import json\n",
    "\n",
    "    \n",
    "def signup():\n",
    "    if curr_sel == \"1\" :\n",
    "        name = input(\"Please state your name: \")\n",
    "        password = input(\"Please input your password: \")\n",
    "        userid = str(random.randint(10, 1000000))\n",
    "        status = \"Inactive\"\n",
    "        username = (name.replace(\" \", \"\")).lower() + userid\n",
    "        filename = 'user' + userid + '.txt'\n",
    "        print(\"[Creating Your Account...]\")\n",
    "        t.sleep(2.4)\n",
    "        print(\"\"\"Created.\n",
    "        Your Account ID is \"\"\" + str(userid) + \"\"\". Please keep it safe. It will be used to sign.\n",
    "        Thank You for creating your accouting with us. Here are your account details with us till now\"\"\")\n",
    "        print(\"User ID : \" + userid)\n",
    "        print(\"Name : \" + name)\n",
    "        print(\"Username: \" + username)\n",
    "        print(\"Pin : \" + \"Not Created\")\n",
    "        print(\"Status: \" + status)\n",
    "        print(\"Password: \" + password)\n",
    "\n",
    "        pin = int(input(\"Please input your 4 digit secret PIN Number: \"))\n",
    "        while pin < 1000 or pin > 9999:\n",
    "            pin = int(input(\"Invalid Pin. Please Re-enter: \"))\n",
    "        else:\n",
    "            status = \"Active\"\n",
    "        print(\"Your account is now Activated!\")\n",
    "        userdata = {\n",
    "            \"id\" : userid,\n",
    "            \"Name\": name,\n",
    "            \"Username\": username, \n",
    "            \"pin\" : pin,\n",
    "            \"Account Status\": status,\n",
    "            \"Password\": password\n",
    "        }\n",
    "        \n",
    "        def write_json(data, filename='data.json'): \n",
    "            with open(filename,'w') as f: \n",
    "                json.dump(data, f, indent=4) \n",
    "        with open('data.json') as json_file: \n",
    "            data = json.load(json_file) \n",
    "            temp = data['userdata'] \n",
    "            userdata_temp = {\n",
    "                \"id\" : userid,\n",
    "                \"Username\": username, \n",
    "                \"Name\": name,\n",
    "                \"pin\" : pin,\n",
    "                \"Account Status\": status,\n",
    "                \"Password\": password\n",
    "            }\n",
    "            temp.append(userdata_temp)\n",
    "        write_json(data) \n",
    "    elif curr_sel == \"2\":\n",
    "        userid_sign = input(\"Please enter your Userid: \")\n",
    "        password_sign = input(\"Please enter your Password: \")\n",
    "        print(\"Checking your credentials...\")\n",
    "        t.sleep(2.4)\n",
    "        with open('data.json') as json_file: \n",
    "            data = json.load(json_file) \n",
    "        flag = 0\n",
    "        for user in data['userdata']:\n",
    "            if user['id']==userid_sign and user['Password'] == password_sign:\n",
    "                print(\"Signedin\")\n",
    "                flag =1\n",
    "        if flag==0:\n",
    "            print(\"No account found\")\n",
    "        \n",
    "if __name__ == \"__main__\":\n",
    "    print(\"Hello and Welcome\")\n",
    "    curr_sel = 1\n",
    "    while curr_sel!=0:\n",
    "        curr_sel = int(input(\"1- SIGNUP 2- SIGNIN | \"))\n",
    "        print(\"Loop executed\")\n",
    "        # signup()\n"
   ]
  },
  {
   "cell_type": "code",
   "execution_count": 56,
   "metadata": {},
   "outputs": [],
   "source": [
    "with open('data.json') as json_file: \n",
    "    data = json.load(json_file) "
   ]
  },
  {
   "cell_type": "code",
   "execution_count": null,
   "metadata": {},
   "outputs": [],
   "source": []
  }
 ],
 "metadata": {
  "kernelspec": {
   "display_name": "Python 3",
   "language": "python",
   "name": "python3"
  },
  "language_info": {
   "codemirror_mode": {
    "name": "ipython",
    "version": 3
   },
   "file_extension": ".py",
   "mimetype": "text/x-python",
   "name": "python",
   "nbconvert_exporter": "python",
   "pygments_lexer": "ipython3",
   "version": "3.7.4"
  }
 },
 "nbformat": 4,
 "nbformat_minor": 2
}
